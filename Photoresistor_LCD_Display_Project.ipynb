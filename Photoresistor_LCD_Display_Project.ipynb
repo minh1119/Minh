{
 "cells": [
  {
   "cell_type": "markdown",
   "metadata": {},
   "source": [
    "# Final Project\n",
    "* NAME: Minh Le\n",
    "* COURSE: ENGR 114\n",
    "* QUATER: Winter 2021\n",
    "* Date: 03/15/21"
   ]
  },
  {
   "cell_type": "code",
   "execution_count": null,
   "metadata": {
    "scrolled": true
   },
   "outputs": [],
   "source": [
    "import serial\n",
    "serial.__version__\n",
    "import pandas as pd\n",
    "import matplotlib.pyplot as plt\n",
    "import time\n",
    "import numpy as np\n",
    "#%matplotlib inline # Changed according to https://stackoverflow.com/questions/14261903/how-can-i-open-the-interactive-matplotlib-window-in-ipython-notebook\n",
    "%matplotlib notebook \n",
    "\n",
    "# Start Time\n",
    "starttime = time.time()\n",
    "\n",
    "# Data list\n",
    "data = [0.0]\n",
    "x = [0.0]\n",
    "\n",
    "# Create plot\n",
    "fig, ax = plt.subplots(figsize=(9,8))\n",
    "plt.ion()\n",
    "ax.set_ylabel('The Voltage across resistor')\n",
    "ax.set_xlabel('Time')\n",
    "ax.set_title('Voltage on LCD')\n",
    "ax.legend ('The voltage')\n",
    "\n",
    "# Open serial connection.\n",
    "ser = serial.Serial(\"/dev/cu.usbmodem142301\", 9600, timeout=1)\n",
    "\n",
    "# Voltage value update function\n",
    "def voltage_value():\n",
    "    # get voltage data from serial connection. https://stackoverflow.com/questions/37800225/python-readline-returns-string-that-wont-convert-to-int-or-float\n",
    "    inputstr=ser.readline().strip()\n",
    "    \n",
    "    # Add data to array from serial\n",
    "    try:\n",
    "        data.append(float(inputstr.decode()))\n",
    "    except:\n",
    "        data.append(0.0)\n",
    "    \n",
    "    # Add time stamp to time array. https://www.programiz.com/python-programming/time\n",
    "    now = time.time() - starttime\n",
    "    x.append(now)\n",
    "    \n",
    "    \n",
    "    # Update plot in notebook. https://linux-blog.anracom.com/2019/12/26/matplotlib-jupyter-and-updating-multiple-interactive-plots/\n",
    "    ax.plot(x,data)\n",
    "    fig.canvas.draw()\n",
    "    plt.pause(.001)\n",
    "    \n",
    "\n",
    "# Infinite loop\n",
    "while(1==1):\n",
    "    voltage_value()\n"
   ]
  },
  {
   "cell_type": "code",
   "execution_count": null,
   "metadata": {},
   "outputs": [],
   "source": []
  },
  {
   "cell_type": "code",
   "execution_count": null,
   "metadata": {},
   "outputs": [],
   "source": []
  }
 ],
 "metadata": {
  "kernelspec": {
   "display_name": "Python 3",
   "language": "python",
   "name": "python3"
  },
  "language_info": {
   "codemirror_mode": {
    "name": "ipython",
    "version": 3
   },
   "file_extension": ".py",
   "mimetype": "text/x-python",
   "name": "python",
   "nbconvert_exporter": "python",
   "pygments_lexer": "ipython3",
   "version": "3.8.5"
  }
 },
 "nbformat": 4,
 "nbformat_minor": 4
}
